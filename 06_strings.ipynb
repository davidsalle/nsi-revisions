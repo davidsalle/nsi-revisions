{
  "cells": [    
    {
      "cell_type": "markdown",
      "metadata": {},
      "source": [
        "## 4 - Chaînes de caractères\n",
        "\n",
        "### 4.1 - Rappel de cours\n",
        "\n",
        "#### 4.1.1 - Définition et représentation\n",
        "\n",
        "Une **chaîne de caractères** (type `str` en Python) est une collection de données : ordonnée, indexable, itérable et non-mutable.\n",
        "\n",
        "Comme son nom l'indique elle ne peut contenir que des caractères.\n",
        "\n",
        "Pour les reconnaître des autres variables, on les encadre de guillemets soit simples, soit doubles.\n",
        "\n",
        "```python\n",
        "# Chaîne de caractères Python...\n",
        "chaine = \"ABCDE\"\n",
        "\n",
        "\"\"\"\n",
        "Représentation schématique de la chaîne de caractères\n",
        "   0     1     2     3     4\n",
        "+-----+-----+-----+-----+-----+\n",
        "| 'A' | 'B' | 'C' | 'D' | 'E' |\n",
        "+-----+-----+-----+-----+-----+\n",
        "\"\"\"\n",
        "```"
      ]
    },
    {
      "cell_type": "code",
      "execution_count": null,
      "metadata": {
        "trusted": true
      },
      "outputs": [],
      "source": [
        "# Déclaration de chaînes de caractères\n",
        "intro = \"Il était une fois...\"\n",
        "outro = 'dans la ville de Foix' \n",
        "\n",
        "# Affichage de leurs types pour vérification\n",
        "print(type(intro))\n",
        "print(type(outro))"
      ]
    },
    {
      "cell_type": "markdown",
      "metadata": {},
      "source": [
        "#### 4.1.2 - Accès\n",
        "\n",
        "Comme une chaîne de caractères est ordonnée et indexable, on peut accéder aux différentes valeurs en lecture à l'aide de son index via l'opérateur [ ] Les slices sont également utilisables"
      ]
    },
    {
      "cell_type": "code",
      "execution_count": null,
      "metadata": {
        "trusted": true
      },
      "outputs": [],
      "source": [
        "print(intro[0])\n",
        "print(intro[1])\n",
        "print(intro[3:8])"
      ]
    },
    {
      "cell_type": "markdown",
      "metadata": {},
      "source": [
        "Par contre, comme les tuples, les chaînes de caractères ne sont pas mutables. Le code suivant va donc générer une erreur (de type `TypeError`)."
      ]
    },
    {
      "cell_type": "code",
      "execution_count": null,
      "metadata": {
        "trusted": true
      },
      "outputs": [],
      "source": [
        "# Tentative de modification d'une chaîne de caractères qui va générer une erreur\n",
        "intro[0] = 'i'"
      ]
    },
    {
      "cell_type": "markdown",
      "metadata": {},
      "source": [
        "#### 4.1.3 - Parcours\n",
        "\n",
        "Une chaîne de caractères étant **itérable**, on peut utiliser une boucle `for` pour parcourir tous ses éléments"
      ]
    },
    {
      "cell_type": "code",
      "execution_count": null,
      "metadata": {
        "trusted": true
      },
      "outputs": [],
      "source": [
        "# Boucle parcourant une chaîne de caractères (version sans index)\n",
        "for caractere in intro:\n",
        "    print(caractere)\n",
        "    \n",
        "# Boucle parcourant une chaîne de caractères (version avec index)\n",
        "for i in range(0, len(intro)):\n",
        "    print(intro[i])"
      ]
    },
    {
      "cell_type": "markdown",
      "metadata": {},
      "source": [
        "#### 4.1.4 - Opérations\n",
        "\n",
        "De nombreuses fonctions et méthodes sont proposées au développeur Python pour manipuler les chaînes de caractères. En voici quelques unes."
      ]
    },
    {
      "cell_type": "code",
      "execution_count": null,
      "metadata": {
        "trusted": true
      },
      "outputs": [],
      "source": [
        "# + : pour concaténer (fusionner) 2 chaînes de caractères\n",
        "complet = intro + outro\n",
        "print(complet)\n",
        "\n",
        "# chr() et ord(): pour récupérer/convertir le code ASCII en caractère\n",
        "print(chr(65))    # code ASCII 65 => caractère 'A'\n",
        "print(ord('A'))   # caractère 'A' => code ASCII 65\n",
        "\n",
        "# len() : pour connaître la taille d'une chaîne de caractères\n",
        "print(f\"Taille de intro : {len(intro)} caractères\")\n",
        "\n",
        "# upper() et lower() : pour convertir en majuscules et minuscules\n",
        "print(intro.upper())\n",
        "print(intro.lower())\n",
        "\n",
        "# replace() : pour remplacer un caractère par un autre (ou une sous-chaîne)\n",
        "nouvelle_intro = intro.replace('t', 'T')\n",
        "print(nouvelle_intro)\n",
        "nouvelle_intro = intro.replace('oi', 'O1')\n",
        "print(nouvelle_intro)\n",
        "\n",
        "# split() : pour découper une chaîne de caractères selon un caractère séparateur\n",
        "mots = outro.split(' ')\n",
        "print(mots)\n",
        "\n",
        "# strip() : pour supprimer le dernière caractère\n",
        "raccourcie = outro.strip()\n",
        "print(raccourcie)\n",
        "\n",
        "# isnumeric() : pour savoir si c'est un nombre ou pas\n",
        "un_nombre = \"12345\"\n",
        "print(un_nombre.isnumeric())\n",
        "\n",
        "# str() : pour changer de type de base en chaîne de caractères\n",
        "autre_nombre = str(12345)\n",
        "print(autre_nombre)"
      ]
    },
    {
      "cell_type": "markdown",
      "metadata": {},
      "source": [
        "#### 4.1.5 - Formatage\n",
        "\n",
        "Pour afficher le contenu de certaines variables, il est souvent nécessaire de formater formater ces variables sous forme de chaîne de caractères."
      ]
    },
    {
      "cell_type": "code",
      "execution_count": null,
      "metadata": {
        "trusted": true
      },
      "outputs": [],
      "source": [
        "# Des variables à afficher\n",
        "article = \"riz\"\n",
        "prix = 2.95\n",
        "poids = 180\n",
        "\n",
        "# Formatage (ancienne version)\n",
        "print(\"Article :\", article, \"pèse\", poids, \"g et coûte\", prix, \"€\")\n",
        "\n",
        "# Formatage avec la fonction format()\n",
        "print(\"Article : {} pèse {} g et coûte {} €\".format(article, poids, prix))\n",
        "\n",
        "# Formatage avec les f-strings\n",
        "print(f\"Article : {article} pèse {poids} g et coûte {prix} €\")"
      ]
    },
    {
      "cell_type": "markdown",
      "metadata": {},
      "source": [
        "### 4.2 - Exercices"
      ]
    }
	],
  "metadata": {
    "kernelspec": {
      "display_name": "Python 3",
      "language": "python",
      "name": "python3"
    },
    "language_info": {
      "name": "python",
      "version": "3.10.6"
    },
    "vscode": {
      "interpreter": {
        "hash": "916dbcbb3f70747c44a77c7bcd40155683ae19c65e1c03b4aa3499c5328201f1"
      }
    }
  },
  "nbformat": 4,
  "nbformat_minor": 2
}
