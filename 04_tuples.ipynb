{
  "cells": [
    {
      "cell_type": "markdown",
      "metadata": {},
      "source": [
        "## 2 - Les tuples\n",
        "\n",
        "### 2.1 - Rappels du cours\n",
        "\n",
        "#### 2.1.1 - Définition et représentation\n",
        "\n",
        "Un **tuple** (type `tuple` en Python) est une collection de données : ordonnée, indexable, itérable mais non-mutable.\n",
        "\n",
        "Il a les mêmes propriétés que la liste, si ce n'est qu'il est impossible de modifier les données (non-mutable).\n",
        "\n",
        "Les données contenues dans un tuple ne sont pas obligatoirement du même type.\n",
        "\n",
        "On l'appelle également **n-uplet** notamment en mathématiques (ex : un triplet, un quadruplet...)\n",
        "\n",
        "```python\n",
        "# Tuple en Python...\n",
        "un_tuple = (1, \"XYZ\", 2.345, True)\n",
        "\n",
        "\"\"\"\n",
        "Représentation schématique du tuple\n",
        "  0     1       2       3\n",
        "+---+-------+-------+------+\n",
        "| 1 | \"XYZ\" | 2.345 | True |\n",
        "+---+-------+-------+------+\n",
        "\"\"\"\n",
        "```"
      ]
    },
    {
      "cell_type": "code",
      "execution_count": null,
      "metadata": {
        "trusted": true
      },
      "outputs": [],
      "source": [
        "# Déclaration de tuples\n",
        "notes = (12, 8, 15, 19, 10)\n",
        "adresse = (17, \"Rue des lilas\", 79000, \"NIORT\")\n",
        "classe = (\"TNSI\",)     # Tuple ne contenant qu'une seule valeur\n",
        "\n",
        "# Affichage de leurs types pour vérification\n",
        "print(type(notes))\n",
        "print(type(adresse))\n",
        "print(type(classe))"
      ]
    },
    {
      "cell_type": "markdown",
      "metadata": {},
      "source": [
        "#### 2.1.2 - Accès\n",
        "\n",
        "Comme un tuple est **ordonnée** et **indexable**, on peut accéder aux différentes valeurs en lecture à l'aide de son index via l'opérateur `[ ]`"
      ]
    },
    {
      "cell_type": "code",
      "execution_count": null,
      "metadata": {
        "trusted": false
      },
      "outputs": [],
      "source": [
        "# Affichage de la première et de la deuxième valeur\n",
        "print(notes[0])\n",
        "print(notes[1])"
      ]
    },
    {
      "cell_type": "markdown",
      "metadata": {},
      "source": [
        "Il est également possible de décomposer (unpack) un tuple en différentes variables"
      ]
    },
    {
      "cell_type": "code",
      "execution_count": null,
      "metadata": {
        "trusted": false
      },
      "outputs": [],
      "source": [
        "# Décomposition d'un tuple\n",
        "numero, rue, code_postal, ville = adresse\n",
        "\n",
        "# Affichage pour vérification\n",
        "print(f\"Adresse : {numero}, {rue} - {code_postal} {ville}\")"
      ]
    },
    {
      "cell_type": "markdown",
      "metadata": {},
      "source": [
        "La particularité du tuple est d'être non mutable, c'est à dire qu'il n'est pas possible de modifier les données contenues dans le tuple. Normalement le code suivant devrait produire une erreur (TypeError) !"
      ]
    },
    {
      "cell_type": "code",
      "execution_count": null,
      "metadata": {
        "trusted": false
      },
      "outputs": [],
      "source": [
        "# Tentative de modification de l'adresse qui devrait générer une erreur\n",
        "adresse[1] = \"Rue des écureuils\""
      ]
    },
    {
      "cell_type": "markdown",
      "metadata": {},
      "source": [
        "#### 2.1.3 - Parcours\n",
        "\n",
        "Le tuple étant **itérable**, on peut utiliser une boucle `for` pour parcourir tous ses éléments"
      ]
    },
    {
      "cell_type": "code",
      "execution_count": null,
      "metadata": {
        "trusted": false
      },
      "outputs": [],
      "source": [
        "# Boucle parcourant un tuple (version sans index)\n",
        "for element in tuple_a:\n",
        "    print(element)\n",
        "    \n",
        "# Boucle parcourant un tuple (version avec index)\n",
        "for i in range(0, len(tuple_a)):\n",
        "    print(tuple_a[i])"
      ]
    },
    {
      "cell_type": "markdown",
      "metadata": {},
      "source": [
        "#### 2.1.4 - Avec les fonctions\n",
        "\n",
        "Un tuple peut être utilisé comme valeur de retour d'une fonction. C'est très pratique car cela permet de retourner plusieurs valeurs en une seul fois."
      ]
    },
    {
      "cell_type": "code",
      "execution_count": null,
      "metadata": {
        "trusted": false
      },
      "outputs": [],
      "source": [
        "def calculer_extremuns(liste):\n",
        "    valeur_minimum = min(liste)\n",
        "    valeur_maximum = max(liste)\n",
        "    amplitude = valeur_maximum - valeur_minimum\n",
        "    return (valeur_minimum, valeur_maximum, amplitude)\n",
        "\n",
        "# Appel de la fonction et récupération des valeurs du tuple par décomposition\n",
        "mini, maxi, ampli = calculer_extremuns([12, 54, 98, 74, 36])"
      ]
    },
    {
      "cell_type": "markdown",
      "metadata": {},
      "source": [
        "#### 2.1.5 - Operations\n",
        "\n",
        "Il est possible de concaténer 2 tuples en 1 seul. Cela consite à mettre bout à bout les 2 tuples"
      ]
    },
    {
      "cell_type": "code",
      "execution_count": null,
      "metadata": {
        "trusted": false
      },
      "outputs": [],
      "source": [
        "tc = (1, 2, 3)\n",
        "td = (5, 6, 7)\n",
        "te = tc + td\n",
        "print(te)"
      ]
    },
    {
      "cell_type": "markdown",
      "metadata": {},
      "source": [
        "On peut aussi répéter un tuple pour en créer un nouveau en répétant le premier"
      ]
    },
    {
      "cell_type": "code",
      "execution_count": null,
      "metadata": {
        "trusted": false
      },
      "outputs": [],
      "source": [
        "tf = (1, 2, 3)\n",
        "tg = tf * 4\n",
        "print(tg)"
      ]
    },
    {
      "cell_type": "markdown",
      "metadata": {},
      "source": [
        "### 2.2 - Exercices\n",
        "\n",
        "https://kxs.fr/cours/python/exercices-tuples\n",
        "https://kxs.fr/cours/python/tuples\n",
        "\n",
        "#### 2.2.1 - Position\n",
        "\n",
        "!!! note Exercice\n",
        "Écrire une fonction `calculer_position()` qui prend en argument un tuple d'entiers et un élément. Elle devra renvoyer la position de cet élément dans le tuple ou -1 si l’élément n’est pas trouvé.\n",
        "!!!"
      ]
    },
    {
      "cell_type": "code",
      "execution_count": null,
      "metadata": {
        "trusted": false
      },
      "outputs": [],
      "source": [
        "# Les tuples en entrées du problème\n",
        "t1 = (1, 2, 3, 4, 5, 6)\n",
        "t2 = (23, 77, 59, 45)\n",
        "t3 = (8702, 6143, 4520, 4368, 5431, 125, 687, 494)\n",
        "\n",
        "# Votre code\n",
        "def calculer_position(t, e):\n",
        "    \"\"\"Calcule et retourne la position de l'élément e dans tuple t\"\"\"\n",
        "    position = -1\n",
        "    i = 0\n",
        "    for element in t:\n",
        "        if element == e:\n",
        "            position = i\n",
        "        i += 1\n",
        "    return position\n",
        "        \n",
        "    \n",
        "# Tests unitaires pour vérifier votre code\n",
        "assert calculer_position(t1, 1) == 0\n",
        "assert calculer_position(t1, 2) == 1\n",
        "assert calculer_position(t1, 6) == 5\n",
        "assert calculer_position(t1, 9) == -1\n",
        "assert calculer_position(t2, 59) == 2\n",
        "assert calculer_position(t3, 4368) == 3"
      ]
    },
    {
      "cell_type": "markdown",
      "metadata": {},
      "source": [
        "#### 2.2.2 - Villes\n",
        "\n",
        "!!! note Exercice\n",
        "Ecrire une fonction qui prend une ville en paramètre et affiche les informations suivantes\n",
        "```\n",
        ">>> print(detailler(paris))\n",
        "Ville de 2145906 habitants, elle est située en France dans l'hémisphère nord à l'est de Greenwich\n",
        "\n",
        ">>> print(detailler(rio_de_janeiro))\n",
        "Ville de 6775561 habitants, située au Brésil dans l'hémisphère sud à l'ouest de Greenwich\n",
        "```\n",
        "!!!"
      ]
    },
    {
      "cell_type": "code",
      "execution_count": null,
      "metadata": {
        "trusted": false
      },
      "outputs": [],
      "source": [
        "# Villes du monde\n",
        "ville1 = (\"Paris\", 45.1212122, 1.232425, \"France\", 2145906)\n",
        "ville2 = (\"New York\", 45.1212122, 1.232425, \"Etats-Unis\", 8804190)\n",
        "ville3 = (\"Tokyo\", 45.1212122, 1.232425, \"Japon\", 14264798)\n",
        "ville4 = (\"Rio de Janeiro\", 45.1212122, 1.232425, \"Brésil\", 6775561)\n",
        "ville5 = (\"Sydney\", 45.1212122, 1.232425, \"Australie\", 5312163)\n",
        "\n",
        "# Votre code\n",
        "def situer(ville):\n",
        "    \"\"\"Situe une ville sur le globe terrestre\"\"\"\n",
        "    # TODO : à vous de jouer\n",
        "    latitude = ''\n",
        "    longitude = ''\n",
        "    if ville[1] >= 0.0:\n",
        "        hemisphere_horizontalement = 'N'\n",
        "    else:\n",
        "        hemisphere_horizontalement = 'S'\n",
        "    if ville[2] >= 0.0:\n",
        "        hemisphere_verticalement = 'E'\n",
        "    else:\n",
        "        hemisphere_verticalement = 'O'\n",
        "    return (hemisphere_horizontalement, hemisphere_verticalement)\n",
        "    \n",
        "# Tests unitaires pour vérifier votre code\n",
        "assert situer(ville1) == ('N', 'E')"
      ]
    }
	],
  "metadata": {
    "kernelspec": {
      "display_name": "Python 3",
      "language": "python",
      "name": "python3"
    },
    "language_info": {
      "name": "python",
      "version": "3.10.6"
    },
    "vscode": {
      "interpreter": {
        "hash": "916dbcbb3f70747c44a77c7bcd40155683ae19c65e1c03b4aa3499c5328201f1"
      }
    }
  },
  "nbformat": 4,
  "nbformat_minor": 2
}
