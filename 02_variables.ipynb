{
  "cells": [
    {
      "cell_type": "markdown",
      "metadata": {},
      "source": [
        "## 2 - Variables\n",
        "\n",
        "### 2.1 - Déclaration et affectation\n",
        "\n",
        "Les variables sont des conteneurs nous permettant de stocker des données"
      ]
    },
    {
      "cell_type": "code",
      "execution_count": null,
      "metadata": {
        "trusted": false
      },
      "outputs": [],
      "source": [
        "# Déclaration et affectation d'une variable n pour stocker la valeur 100\n",
        "n = 100"
      ]
    },
    {
      "cell_type": "markdown",
      "metadata": {},
      "source": [
        "Python qui est un langage **objet** va alors en coulisse faire les actions suivantes :\n",
        "- 1. création d'un objet de type `int` (Python est capable de reconnaître automatiquement le type des données)\n",
        "- 2. affectation de la valeur 100 à cet objet\n",
        "- 3. création d'un lien symbolique (ou **référence**, ou pointeur) nommé `n` et relié à l'objet\n",
        "```\n",
        "             +-----+\n",
        "n ---------> | 100 |\n",
        "             +-----+\n",
        "```\n",
        "\n",
        "### 2.2 - Types\n",
        "\n",
        "Quelqu'uns des types **basiques** utilisables en Python :\n",
        "| Type    | Description      | Exemple           |\n",
        "|---------|------------------|-------------------|\n",
        "| `bool`  | Booléen          | `True` ou `False` |\n",
        "| `int`   | Nombre entier    | `10` ou `234`     |\n",
        "| `float` | Nombre à virgule | `3.14` ou `99.98` |\n",
        "\n",
        "Et les types **construits** permettant de stocker des structures de données plus complexes à partir de types basiques. \n",
        "| Type    | Description          | Exemple                        |\n",
        "|---------|----------------------|--------------------------------|\n",
        "| `str`   | Chaîne de caractères | `\"Bonjour\"`                    |\n",
        "| `list`  | Liste de valeurs     | `[12, 59, 66]`                 |\n",
        "| `tuple` | Tuple de valeurs     | `(12, 59, 66)`                 |\n",
        "| `dict`  | Dictionnaire         | `{\"pomme\":2.17, \"poire\":3.22}` |\n",
        "\n",
        "!!! note A faire\n",
        "Exécuter le code suivant pour afficher les détails de la variable `n`\n",
        "!!!"
      ]
    },
    {
      "cell_type": "code",
      "execution_count": null,
      "metadata": {
        "trusted": false
      },
      "outputs": [],
      "source": [
        "# Affichage de la variable\n",
        "print(n)\n",
        "\n",
        "# Affichage du type de la variable n\n",
        "print(type(n))\n",
        "\n",
        "# Affichage de l'adresse en mémoire de l'objet stockant la valeur 100\n",
        "print(id(n))"
      ]
    },
    {
      "cell_type": "markdown",
      "metadata": {},
      "source": [
        "### 2.3 - Référence\n",
        "\n",
        "!!! note A faire \n",
        "Que se passe-t-il avec l'instruction suivante ?\n",
        "!!!"
      ]
    },
    {
      "cell_type": "code",
      "execution_count": null,
      "metadata": {
        "trusted": false
      },
      "outputs": [],
      "source": [
        "m = n"
      ]
    },
    {
      "cell_type": "markdown",
      "metadata": {},
      "source": [
        "Python ne créé pas un nouvel objet mais ajoute une nouvelle référence `m` à l'objet pointé par `n`\n",
        "```\n",
        "             +-----+\n",
        "n ---------> | 100 | <--------- m\n",
        "             +-----+\n",
        "```"
      ]
    },
    {
      "cell_type": "code",
      "execution_count": null,
      "metadata": {
        "trusted": false
      },
      "outputs": [],
      "source": [
        "# Affichage de la variable\n",
        "print(m)\n",
        "\n",
        "# Affichage du type de la variable n\n",
        "print(type(m))\n",
        "\n",
        "# Affichage de l'id en mémoire de l'objet stockant la valeur 100\n",
        "print(id(m))\n",
        "print(id(n))"
      ]
    },
    {
      "cell_type": "markdown",
      "metadata": {},
      "source": [
        "Vous devriez constater que c'est bien le même objet en mémoire qui est pointé par `m` et `n`.\n",
        "\n",
        "Tester à présent l'instruction suivante :"
      ]
    },
    {
      "cell_type": "code",
      "execution_count": null,
      "metadata": {
        "trusted": false
      },
      "outputs": [],
      "source": [
        "# Affectation de la valeur 300 à la variable m\n",
        "m = 300"
      ]
    },
    {
      "cell_type": "markdown",
      "metadata": {},
      "source": [
        "Si à présent on affecte une nouvelle valeur à `m`, alors Python va comme précédemment :\n",
        "- 1. création d'un objet de type `int` (Python est capable de reconnaître automatiquement le type des données)\n",
        "- 2. affectation de la valeur 300 à cet objet\n",
        "- 3. création d'un lien symbolique (ou référence, ou pointeur) nommé `m` et relié à l'objet\n",
        "```\n",
        "             +-----+\n",
        "n ---------> | 100 |\n",
        "             +-----+\n",
        "             +-----+\n",
        "m ---------> | 300 |\n",
        "             +-----+\n",
        "```\n",
        "\n",
        "!!! note A faire\n",
        "Exécuter le code suivant. Vous devriez observer que `m` référence à présent un nouvel objet en mémoire contenant la valeur `300` \n",
        "!!!"
      ]
    },
    {
      "cell_type": "code",
      "execution_count": null,
      "metadata": {
        "trusted": false
      },
      "outputs": [],
      "source": [
        "# Affichage de la variable\n",
        "print(m)\n",
        "\n",
        "# Affichage du type de la variable n\n",
        "print(type(m))\n",
        "\n",
        "# Affichage de l'id en mémoire de l'objet stockant la valeur 100\n",
        "print(id(m))"
      ]
    },
    {
      "cell_type": "markdown",
      "metadata": {},
      "source": [
        "### 2.3 - Ramasse-miettes\n",
        "\n",
        "!!! note A faire\n",
        "Considérez maintenant l'instruction suivante :\n",
        "!!!"
      ]
    },
    {
      "cell_type": "code",
      "execution_count": null,
      "metadata": {
        "trusted": false
      },
      "outputs": [],
      "source": [
        "n = \"vingt\""
      ]
    },
    {
      "cell_type": "markdown",
      "metadata": {},
      "source": [
        "Si à présent on affecte une nouvelle valeur à `n`, alors Python va comme précédemment :\n",
        "- 1. création d'un objet de type `str` (Python est capable de reconnaître automatiquement le type des données)\n",
        "- 2. affectation de la valeur `\"vingt\"` à cet objet\n",
        "- 3. la référence `n` est reliée au nouvel objet\n",
        "```\n",
        "             +---------+\n",
        "n ---------> | \"vingt\" |\n",
        "             +---------+\n",
        "             +-----+\n",
        "             | 100 |\n",
        "             +-----+\n",
        "             +-----+\n",
        "m ---------> | 300 |\n",
        "             +-----+\n",
        "```\n",
        "\n",
        "L'objet contenant la valeur `100` n'étant plus utilisé, le **\"ramasse-miette\"** va le supprimer automatiquement de la mémoire. Avec d'autres langages comme C ou C++ c'est le développeur qui doit lui même gérer la mémoire."
      ]
    }
	],
  "metadata": {
    "kernelspec": {
      "display_name": "Python 3",
      "language": "python",
      "name": "python3"
    },
    "language_info": {
      "name": "python",
      "version": "3.10.6"
    },
    "vscode": {
      "interpreter": {
        "hash": "916dbcbb3f70747c44a77c7bcd40155683ae19c65e1c03b4aa3499c5328201f1"
      }
    }
  },
  "nbformat": 4,
  "nbformat_minor": 2
}
