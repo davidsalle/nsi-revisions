{
 "cells": [
  {
      "cell_type": "markdown",
      "metadata": {},
      "source": [
        "## 3 - Les listes\n",
        "\n",
        "### 3.1 - Rappel de cours\n",
        "\n",
        "#### 3.1.1 - Définition et représentation\n",
        "\n",
        "Une **liste** (type `list` en Python) est une collection de données : ordonnée, indexable, itérable et mutable.\n",
        "\n",
        "ELle a les mêmes propriétés que le tuple, si ce n'est qu'il est possible de modifier les données (mutable).\n",
        "\n",
        "Les données contenues dans une liste ne sont pas obligatoirement du même type.\n",
        "\n",
        "Ce conteneur aussi appelé tableau est l'un des plus utilisé pour sa simplicité et sa polyvalence.\n",
        "\n",
        "```python\n",
        "# Liste en Python...\n",
        "une_liste = [1, \"XYZ\", 2.345, True]\n",
        "\n",
        "\"\"\"\n",
        "Représentation schématique de la liste\n",
        "  0     1       2       3\n",
        "+---+-------+-------+------+\n",
        "| 1 | \"XYZ\" | 2.345 | True |\n",
        "+---+-------+-------+------+\n",
        "\"\"\"\n",
        "```"
      ]
    },
    {
      "cell_type": "code",
      "execution_count": null,
      "metadata": {
        "trusted": true
      },
      "outputs": [],
      "source": [
        "# Déclaration de listes\n",
        "notes = [12, 8, 15, 19, 10]\n",
        "adresse = [17, \"Rue des lilas\", 79000, \"NIORT\"]\n",
        "classe = []   # Liste vide\n",
        "\n",
        "# Affichage de leurs types pour vérification\n",
        "print(type(notes))\n",
        "print(type(adresse))\n",
        "print(type(classe))"
      ]
    },
    {
      "cell_type": "markdown",
      "metadata": {},
      "source": [
        "#### 3.1.2 - Accès\n",
        "\n",
        "La liste est **ordonnée** et **indexable**, on peut accéder aux différentes valeurs en lecture à l'aide de son index via l'opérateur `[ ]`"
      ]
    },
    {
      "cell_type": "code",
      "execution_count": null,
      "metadata": {
        "trusted": true
      },
      "outputs": [],
      "source": [
        "# Affichage de la première et de la deuxième valeur\n",
        "print(notes[0])\n",
        "print(notes[1])"
      ]
    },
    {
      "cell_type": "markdown",
      "metadata": {},
      "source": [
        "Chaque case d'une liste est modifiable en utilisant comme précédemment l'opérateur `[ ]`"
      ]
    },
    {
      "cell_type": "code",
      "execution_count": null,
      "metadata": {
        "trusted": true
      },
      "outputs": [],
      "source": [
        "# Modification de l'adresse \n",
        "adresse[1] = \"Rue des écureuils\""
      ]
    },
    {
      "cell_type": "markdown",
      "metadata": {},
      "source": [
        "Les **slices** permettent de travailler sur des \"portions\" de listes. Elles utilisent l'opérateur `:` à l'intérieur de l'opérateur `[]` sur le modèle `[debut:fin]`"
      ]
    },
    {
      "cell_type": "code",
      "execution_count": null,
      "metadata": {
        "trusted": true
      },
      "outputs": [],
      "source": [
        "# Liste de départ\n",
        "notes = [12, 8, 15, 19, 10]\n",
        "\n",
        "# Portion des 2 premiers éléments\n",
        "premiers = notes[:2]   # équivalent à notes[0:2]\n",
        "print(f\"premiers : {premiers}\")\n",
        "\n",
        "# Portion des derniers éléments\n",
        "derniers = notes[2:]\n",
        "print(f\"derniers : {derniers}\")\n",
        "\n",
        "# Portion des éléments au milieu de la liste\n",
        "milieu = notes[1:4]\n",
        "print(f\"milieu : {milieu}\")\n",
        "\n",
        "# Portion des 2 derniers éléments en utilisant un indice négatif qui reboucle à la fin\n",
        "autre = notes[-2:]\n",
        "print(f\"autre : {autre}\")"
      ]
    },
    {
      "cell_type": "markdown",
      "metadata": {},
      "source": [
        "#### 3.1.3 - Parcours\n",
        "\n",
        "La liste étant **itérable**, on peut utiliser une boucle `for` pour parcourir tous ses éléments"
      ]
    },
    {
      "cell_type": "code",
      "execution_count": null,
      "metadata": {
        "trusted": true
      },
      "outputs": [],
      "source": [
        "# Boucle parcourant un tuple (version sans index)\n",
        "for note in notes:\n",
        "    print(note)\n",
        "    \n",
        "# Boucle parcourant un tuple (version avec index)\n",
        "for i in range(0, len(notes)):\n",
        "    print(notes[i])"
      ]
    },
    {
      "cell_type": "markdown",
      "metadata": {},
      "source": [
        "#### 3.1.4 - Opérations\n",
        "\n",
        "De nombreuses fonctions et méthodes sont proposées au développeur Python pour manipuler les listes. En voici quelques unes."
      ]
    },
    {
      "cell_type": "code",
      "execution_count": null,
      "metadata": {
        "trusted": true
      },
      "outputs": [],
      "source": [
        "# Listes\n",
        "liste1 = [12, 8, 15, 19, 10]\n",
        "liste2 = []\n",
        "liste3 = [19, 3, 20, 11, 15, 6, 9, 13, 10]\n",
        "\n",
        "# len() et count() : pour connaître le nombre d'éléments dans une liste\n",
        "print(f\"taille de liste1 = {len(liste1)}\")\n",
        "print(f\"taille de liste2 = {len(liste2)}\")\n",
        "\n",
        "# append() : pour ajouter un nouvel élément à la fin d'un liste\n",
        "liste2.append(4)\n",
        "liste2.append(37)\n",
        "print(f\"liste2 après 2 ajouts : {liste2}\")\n",
        "\n",
        "# min() et max() : pour connaître les valeurs extremums d'une liste\n",
        "print(f\"minimum de liste1 = {min(liste1)}\")\n",
        "print(f\"maximum de liste1 = {max(liste1)}\")\n",
        "\n",
        "# pop(), remove() et del() : pour supprimer un élément d'une liste\n",
        "supprimee = liste1.pop()         # supprime et retourne le dernier élément de la liste (équivalent de pop(-1))  \n",
        "print(f\"liste1 après pop() : {liste1}. Valeur supprimée = {supprimee}\")\n",
        "supprimee = liste1.pop(2)        # supprime et retourne l'élément d'indice 2 de la liste \n",
        "print(f\"liste1 après pop(2) : {liste1}. Valeur supprimée = {supprimee}\")\n",
        "liste1.remove(19)                # supprime un élément de la liste en fonction de sa valeur\n",
        "print(f\"liste1 après remove(19) : {liste1}\")\n",
        "del(liste1[1])                   # supprime un élément de la liste en fonction de son indice\n",
        "print(f\"liste1 après del(liste1[1]) : {liste1}\")\n",
        "\n",
        "# sort() et sorted() : pour trier les éléments d'un liste\n",
        "liste3.sort()                    # tri par ordre croissant des valeurs (par défaut). Tri en place, ne retourne rien\n",
        "print(f\"liste3 après un tri croissant avec sort() : {liste3}\")\n",
        "liste3.sort(reverse=True)        # tri par ordre décroissant des valeurs.\n",
        "print(f\"liste3 après un tri décroissant avec sort(reverse=True) : {liste3}\")\n",
        "liste3_triee = sorted(liste3)    # tri par ordre croissant des valeurs en retournant une nouvelle liste\n",
        "print(f\"liste3_triee après un tri croissant avec sorted() : {liste3_triee}\")\n",
        "\n",
        "# count() : pour compter le nombre d'éléments  d'une certaine valeur dans une liste\n",
        "print(f\"La valeurs 12 apparait {liste3.count(12)} fois dans liste1\")\n",
        "\n",
        "# insert() : pour insérer une valeur dans une liste\n",
        "liste3.insert(0, 17)    # Ajoute la valeur 17 à l'indice 0 de la liste3\n",
        "print(f\"liste3 après l'insertion : {liste3}\")\n",
        "\n",
        "# index() : pour retrouver la position d'une valeur dans une liste\n",
        "print(f\"position de la valeur 19 dans liste3 : {liste3.index(19)}\")\n",
        "\n",
        "# + : pour fusionner 2 listes\n",
        "liste_fusionnee = liste2 + liste3\n",
        "print(f\"fusion de liste2 et liste3 : {liste_fusionnee}\")"
      ]
    },
    {
      "cell_type": "markdown",
      "metadata": {},
      "source": [
        "#### 3.1.5 - Liste en compréhension\n",
        "\n",
        "Les listes en compréhension sont une sorte de raccourci d'écriture pour créer, filtrer ou appliquer une fonction aux éléments de la liste.\n",
        "\n",
        "Elles utilisent une syntaxe du type :\n",
        "```\n",
        "en français : [Faire ceci pour cette collection dans cette situation]\n",
        "en Python   : [x * 2      for x in range(10)    if x % 2 == 0       ]\n",
        "```\n",
        "\n",
        "L'équivalent sans liste en compréhension serait :\n",
        "```python\n",
        "resultat = []\n",
        "for x in range(10):\n",
        "    if x % 2 == 0:\n",
        "        resultat.append(x * 2)\n",
        "```\n",
        "\n"
      ]
    },
    {
      "cell_type": "code",
      "execution_count": null,
      "metadata": {
        "trusted": true
      },
      "outputs": [],
      "source": [
        "# Création d'une liste en compréhension\n",
        "liste4 = [x * 2 for x in range(0, 10) if x % 2 == 0]\n",
        "print(f\"liste4 : {liste4}\")\n",
        "\n",
        "# Filtrage pour ne garder que certains nombres de la liste (ceux plus grand que 5)\n",
        "liste5 = [x for x in range(0, 10) if x > 5]\n",
        "print(f\"liste5 : {liste5}\")\n",
        "\n",
        "# Application d'un fonction à tous les éléments d'une liste\n",
        "def tripler(x):\n",
        "    return x * 3\n",
        "\n",
        "liste6 = [tripler(x) for x in range(0, 10)]\n",
        "print(f\"liste6 : {liste6}\")"
      ]
    },
    {
      "cell_type": "markdown",
      "metadata": {},
      "source": [
        "### 3.2 - Exercices\n",
        "\n",
        "TODO :"
      ]
    }  
 	],
 "metadata": {
  "kernelspec": {
   "display_name": "Python 3",
   "language": "python",
   "name": "python3"
  },
  "language_info": {
   "name": "python",
   "version": "3.10.6"
  },
  "orig_nbformat": 4,
  "vscode": {
   "interpreter": {
    "hash": "916dbcbb3f70747c44a77c7bcd40155683ae19c65e1c03b4aa3499c5328201f1"
   }
  }
 },
 "nbformat": 4,
 "nbformat_minor": 2
}
