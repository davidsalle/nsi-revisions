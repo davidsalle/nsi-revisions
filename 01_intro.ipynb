{
  "cells": [
    {
      "attachments": {},
      "cell_type": "markdown",
      "metadata": {},
      "source": [
        "# Révisions NSI\n",
        "\n",
        "## 1 - Introduction\n",
        "\n",
        "### 1.1 - Objectifs\n",
        "\n",
        "Ce **notebook** a été créé afin de vous permettre de réviser les **structures de données** de base en langage Python. Elles sont primordiales car elles servent à stocker l'information à traiter dans le programme.\n",
        "\n",
        "TODO : ajouter schéma programmation\n",
        "\n",
        "Au programme :\n",
        "- les variables\n",
        "- les listes\n",
        "- les chaînes de caractères\n",
        "- les tuples\n",
        "- les dictionnaires\n",
        "- les classes et objets (POO)\n",
        "\n",
        "\n",
        "### 1.2 - Conteneurs séquence\n",
        "\n",
        "Les conteneurs sont caractérisés par certains comportement détaillé dans le tableau ci-dessous :\n",
        "- **mutable** : est-ce que je peux modifier les données ?\n",
        "- **ordonnée** : est-ce que les données sont ordonnées dans un certain ordre ?\n",
        "- **indexable** : est-ce que je peux récupérer facilement une donnée par son indice/clef ?\n",
        "- **Itérable** : est-ce que je peux parcourir les données avec une boucle ?\n",
        "\n",
        "| Nom                  | Type Python | Mutable | Ordonnée | Indexable | Itérable |\n",
        "|----------------------|-------------|---------|----------|-----------|----------|\n",
        "| Liste                | list        | oui     | oui      | oui       | oui      |\n",
        "| Chaîne de caractères | str         | non     | oui      | oui       | oui      |\n",
        "| Tuples (ou p-uplet)  | tuple       | non     | oui      | oui       | oui      |\n",
        "| Dictionnaire         | dict        | oui     | non      | oui       | oui      |\n",
        "| Classe/objet         | object      | oui     | non      | non       | non*     |\n",
        "\n",
        "(*) : en fait c'est possible en ajoutant 2 méthodes `__iter__()` et `__next__()`\n",
        "\n",
        "Il existe d'autres structures de données : `set`, `frozenset`, `deque`...\n",
        "\n",
        "\n",
        "### 1.3 - Imbrication\n",
        "\n",
        "TODO : rédiger => penser en briques comme des Lego\n",
        "TODO : ajouter schéma pour illustrer avec briques colorées\n",
        "- un tableau de tableaux (tableau 2D)\n",
        "- un tableau de tuples\n",
        "- un tableau de dictionnaires\n",
        "- un dictionnaire de dictionnaire\n",
        "- un dictionnaire de tableaux de tuples\n",
        "- ...\n",
        "\n",
        "\n",
        "### 1.4 - Utilisation du notebook\n",
        "\n",
        "Tout le code Python contenu dans les cellules peut être édité et exécuté directement dans votre navigateur. \n",
        "!!! note A faire\n",
        "Tester par exemple d'exécuter la cellule suivante :\n",
        "1. sélectionner la cellule\n",
        "2. cliquer sur le bouton Exécuter\n",
        "!!!"
      ]
    },
    {
      "cell_type": "code",
      "execution_count": null,
      "metadata": {
        "trusted": false
      },
      "outputs": [],
      "source": [
        "# Test d'un affichage après l'exécution d'une cellule du notebook\n",
        "print(\"Hello world!\")"
      ]
    },
    {
      "cell_type": "markdown",
      "metadata": {},
      "source": [
        "Le code contenu dans chaque cellule peut être modifié et exécuté. \n",
        "\n",
        "!!! note A faire\n",
        "Modifier et exécuter le code suivant pour afficher le message `Hello NSI`\n",
        "!!!"
      ]
    },
    {
      "cell_type": "code",
      "execution_count": null,
      "metadata": {
        "trusted": false
      },
      "outputs": [],
      "source": [
        "print(\"...\")"
      ]
    },
    {
      "cell_type": "markdown",
      "metadata": {},
      "source": [
        "La librairie **lolviz** pourra être utilisée pour visualiser toutes les structures de données de ne notebook.\n",
        "\n",
        "!!! note A faire\n",
        "Exécuter le code suivant pour visualiser la structure de données\n",
        "!!!"
      ]
    },
    {
      "cell_type": "code",
      "execution_count": null,
      "metadata": {
        "trusted": true
      },
      "outputs": [],
      "source": [
        "# Librairie utilisée pour visualiser une structure de données particulière\n",
        "from lolviz import *\n",
        "\n",
        "# Une structure de données complexe\n",
        "donnees = {\n",
        "    \"a\": [1, (2, 3, 4), \"56789\"],\n",
        "    \"b\": (10, 11),\n",
        "    \"c\": {\"suivant\": 12, \"autre\": 13}\n",
        "}\n",
        "\n",
        "# Créé une représentation graphique de la structure de données\n",
        "objviz(donnees)"
      ]
    }
	],
  "metadata": {
    "kernelspec": {
      "display_name": "Python 3",
      "language": "python",
      "name": "python3"
    },
    "language_info": {
      "name": "python",
      "version": "3.10.6"
    },
    "vscode": {
      "interpreter": {
        "hash": "916dbcbb3f70747c44a77c7bcd40155683ae19c65e1c03b4aa3499c5328201f1"
      }
    }
  },
  "nbformat": 4,
  "nbformat_minor": 2
}
