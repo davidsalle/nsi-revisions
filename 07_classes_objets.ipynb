{
  "cells": [
    {
      "cell_type": "markdown",
      "metadata": {},
      "source": [
        "## 6 - Les classes et objets\n",
        "\n",
        "## 6.1 - Rappels de cours\n",
        "\n",
        "### 6.1.1 - Définition et représentation\n",
        "\n",
        "Les **classes** sont des sortes de moules pour créer des **objets**. On les utilise pour créer de nouveaux types. \n",
        "\n",
        "Ce ne sont pas vraiment des collections comme les listes, tuples, dictionnaires et chaînes de caractères, mais elles peuvent le devenir.\n",
        "\n",
        "Un **objet** est caractérisé par \n",
        "- des **attributs** qui décrivent sont état, ce qu'il est est\n",
        "- des **méthodes** qui précisent son comportement, ce qu'il peut faire\n",
        "\n",
        "Parmi les méthodes usuelles, on trouve :\n",
        "- le **constructeur** (`__init__(self)`) chargé d'initialisé l'objet à sa création (on parle aussi d'instanciation)\n",
        "- le **destructeur** (`__del__(self)`) chargé de libérer les ressources de l'objet à sa destruction (pas vraiment utilisé en Python)\n",
        "- les **accesseurs** (`get_xxx(self)`) et **mutateurs** (`set_xxx(self)`) pour lire et modifier les attributs (pas vraiment utilisé en Python)\n",
        "\n",
        "A noter l'utilisation du paramètre `self` en premier paramètre de chaque méthode de la classe. Il représente l'objet lui même issu de la classe.\n",
        "\n",
        "TODO : ajouter schéma kitty"
      ]
    },
    {
      "cell_type": "code",
      "execution_count": null,
      "metadata": {
        "trusted": true
      },
      "outputs": [],
      "source": [
        "# Définition d'une classe\n",
        "class Chat:\n",
        "    def __init__(self, age, poids):\n",
        "        \"\"\"Initialisation des attributs de la classe\"\"\"\n",
        "        self.age = age\n",
        "        self.poids = poids\n",
        "        \n",
        "    def miauler(self):\n",
        "        \"\"\"Affiche un miaulement\"\"\"\n",
        "        print(\"MIAOU !!!\")\n",
        "        \n",
        "    def manger(self, nourriture):\n",
        "        \"\"\"Absorbe une quantité de nourriture\"\"\"\n",
        "        self.poids += nourriture\n",
        "        \n",
        "# Création (ou instanciation) d'un nouvel objet de type Chat à partir de la classe (le moule) Chat\n",
        "mistigri = Chat(2, 3.5)       # Appel implicite du constructeur __init__()\n",
        "mistigri.miauler()            # Appel de la méthode miauler()\n",
        "mistigri.manger(0.2)          # Appel de la méthode manger()\n",
        "\n",
        "# Vérification du type\n",
        "print(type(mistigri))"
      ]
    },
    {
      "cell_type": "markdown",
      "metadata": {},
      "source": [
        "## 6.2 - Exercices"
      ]
    }
  ],
  "metadata": {
    "kernelspec": {
      "display_name": "Python 3",
      "language": "python",
      "name": "python3"
    },
    "language_info": {
      "name": "python",
      "version": "3.10.6"
    },
    "vscode": {
      "interpreter": {
        "hash": "916dbcbb3f70747c44a77c7bcd40155683ae19c65e1c03b4aa3499c5328201f1"
      }
    }
  },
  "nbformat": 4,
  "nbformat_minor": 2
}
