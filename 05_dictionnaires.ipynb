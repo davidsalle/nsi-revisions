{
  "cells": [
    {
      "cell_type": "markdown",
      "metadata": {},
      "source": [
        "## 5 - Les dictionnaires\n",
        "\n",
        "### 5.1 - Rappels de cours\n",
        "\n",
        "#### 5.1.1 - Définition et représentation\n",
        "\n",
        "Un **dictionnaire** (type `dict` en Python) est une collection de données : non-ordonnée, indexable, itérable et mutable.\n",
        "\n",
        "Aussi appelé **tableau associatif**, le dictionnaire utilise une **table de hachage** pour stocker ses valeurs.\n",
        "\n",
        "```python\n",
        "# Dictionnaire en Python...\n",
        "un_dicionnaire = {\"ble\": 370, \"orge\": 420, \"riz\": 290}\n",
        "\n",
        "\"\"\"\n",
        "Représentation schématique du dictionnaire :\n",
        "  \"ble\"  \"orge\"   \"riz\"\n",
        "+-------+-------+-------+\n",
        "|  370  |  420  |  290  |\n",
        "+-------+-------+-------+\n",
        "\n",
        "Table de hachage utilisée en coulisse :\n",
        "    0       1       2       3\n",
        "+-------+-------+-------+-------+\n",
        "|  290  |       |  370  |  420  |\n",
        "+-------+-------+-------+-------+\n",
        "\n",
        "Une fonction de hachage va faire le lien entre la clef et l'indice :\n",
        ">>> fonction_hachage(\"ble\")\n",
        "2\n",
        ">>> fonction_hachage(\"orge\")\n",
        "3\n",
        ">>> fonction_hachage(\"riz\")\n",
        "0\n",
        "\"\"\"\n",
        "```"
      ]
    },
    {
      "cell_type": "code",
      "execution_count": null,
      "metadata": {
        "trusted": true
      },
      "outputs": [],
      "source": [
        "# Déclaration de dictionnaire\n",
        "prix_cereales = {\"ble\": 370, \"orge\": 420, \"riz\": 290}\n",
        "panier = {\"pomme\": 3.54, \"poire\": 2.28, \"banane\": 4.99}\n",
        "vide = {}\n",
        "\n",
        "# Affichage de leurs types pour vérification\n",
        "print(type(prix_cereales))\n",
        "print(type(panier))\n",
        "print(type(vide))"
      ]
    },
    {
      "cell_type": "markdown",
      "metadata": {},
      "source": [
        "#### 5.1.2 - Accès en lecture/écriture\n",
        "\n",
        "Les dictionnaires sont **indexables** et **mutables**. On pourra donc y accéder en utilisant l'opérateur `[ ]` comme pour les listes et les tuples, mais en utilisant une clef plutôt qu'un indice."
      ]
    },
    {
      "cell_type": "code",
      "execution_count": null,
      "metadata": {
        "trusted": true
      },
      "outputs": [],
      "source": [
        "# Affichage d'une valeur particulière\n",
        "print(prix_cereales[\"ble\"])\n",
        "print(prix_cereales[\"orge\"])\n",
        "print(panier[\"banane\"])\n",
        "\n",
        "# Affichage du dictionnaire complet (avec les valeurs non ordonnées)\n",
        "print(prix_cereales)"
      ]
    },
    {
      "cell_type": "markdown",
      "metadata": {},
      "source": [
        "Pour ajouter et/ ou modifier une valeur on utilisera également l'opérateur `[ ]`"
      ]
    },
    {
      "cell_type": "code",
      "execution_count": null,
      "metadata": {
        "trusted": true
      },
      "outputs": [],
      "source": [
        "# Ajout d'une nouvelle valeur\n",
        "prix_cereales[\"mais\"] = 526\n",
        "\n",
        "# Modification d'une valeur existante\n",
        "prix_cereales[\"ble\"] = 379"
      ]
    },
    {
      "cell_type": "markdown",
      "metadata": {},
      "source": [
        "#### 5.1.3 - Parcours et opérations\n",
        "\n",
        "Le parcours d'un dictionnaire utilisera les méthodes items(), keys() et values()"
      ]
    },
    {
      "cell_type": "code",
      "execution_count": null,
      "metadata": {
        "trusted": true
      },
      "outputs": [],
      "source": [
        "# Parcours des clefs uniquement avec une boucle for\n",
        "for clef in prix_cereales.keys():\n",
        "    print(clef)\n",
        "    \n",
        "# Parcours des valeurs uniquement avec une boucle for\n",
        "for valeur in prix_cereales.values():\n",
        "    print(valeur)\n",
        "    \n",
        "# Parcours des clefs et valeurs simultanément avec une boucle for\n",
        "for clef, valeur in prix_cereales.items():\n",
        "    print(f\"{clef} = {valeur}€\")\n",
        "    \n",
        "# Test d'appartenance\n",
        "if \"ble\" in prix_cereales.keys():\n",
        "    print(\"présent\")"
      ]
    },
    {
      "cell_type": "markdown",
      "metadata": {},
      "source": [
        "Les valeurs d'un dictionnaire n'étant pas ordonnées, il n'est pas possible de les trier directement. Cependant, Python propose tout de même la fonction `sorted()` en transformant le dictionnaire en liste de tuples avec `items()`"
      ]
    },
    {
      "cell_type": "code",
      "execution_count": null,
      "metadata": {
        "trusted": true
      },
      "outputs": [],
      "source": [
        "# Tri du dictionnaire par clefs\n",
        "print(sorted(prix_cereales))\n",
        "\n",
        "# Tri du dictionnaire par valeurs en utilisant une fonction lambda\n",
        "print(sorted(prix_cereales.items(), key=lambda x: x[1]))"
      ]
    },
    {
      "cell_type": "markdown",
      "metadata": {},
      "source": [
        "### 5.2 - Exercices"
      ]
    }
	],
  "metadata": {
    "kernelspec": {
      "display_name": "Python 3",
      "language": "python",
      "name": "python3"
    },
    "language_info": {
      "name": "python",
      "version": "3.10.6"
    },
    "vscode": {
      "interpreter": {
        "hash": "916dbcbb3f70747c44a77c7bcd40155683ae19c65e1c03b4aa3499c5328201f1"
      }
    }
  },
  "nbformat": 4,
  "nbformat_minor": 2
}
